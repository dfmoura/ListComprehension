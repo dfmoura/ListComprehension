{
 "cells": [
  {
   "cell_type": "markdown",
   "metadata": {},
   "source": [
    "### fazendo com for\n",
    "\n",
    "- Caso 1: Dobrar o valor de um produto\n",
    "- Caso 2: Todos os produtos que custarem acima de 1.000 dolares, imposto de 50% sobre o valor total"
   ]
  },
  {
   "cell_type": "code",
   "execution_count": 7,
   "metadata": {},
   "outputs": [
    {
     "name": "stdout",
     "output_type": "stream",
     "text": [
      "[1000, 3000, 4000, 200, 50]\n",
      "[750.0, 1000.0]\n"
     ]
    }
   ],
   "source": [
    "lista_precos = [500, 1500, 2000, 100, 25]\n",
    "\n",
    "# caso 1\n",
    "nova_lista_precos = []\n",
    "for preco in lista_precos:\n",
    "    nova_lista_precos.append(preco * 2)\n",
    "print(nova_lista_precos)\n",
    "\n",
    "# Caso 2\n",
    "# Cobrar impostos de produtos acima de 1000\n",
    "imposto = []\n",
    "for preco in lista_precos:\n",
    "    if preco > 1000:\n",
    "        imposto.append(preco * 0.5)\n",
    "print(imposto)"
   ]
  },
  {
   "cell_type": "markdown",
   "metadata": {},
   "source": [
    "### fazendo com list comprehension"
   ]
  },
  {
   "cell_type": "code",
   "execution_count": 8,
   "metadata": {},
   "outputs": [
    {
     "name": "stdout",
     "output_type": "stream",
     "text": [
      "[1000, 3000, 4000, 200, 50]\n",
      "[750.0, 1000.0]\n"
     ]
    }
   ],
   "source": [
    "# Caso 1\n",
    "nova_lista_precos2 = [preco * 2 for preco in lista_precos]\n",
    "print(nova_lista_precos2)\n",
    "\n",
    "# Caso 2\n",
    "imposto2 = [preco * 0.5 for preco in lista_precos if preco > 1000]\n",
    "print(imposto2)"
   ]
  },
  {
   "cell_type": "markdown",
   "metadata": {},
   "source": [
    "### Qual a vantagem?\n",
    "\n",
    "- tudo em 1 linha de código\n",
    "- mais rápido e \"simples\" se você já está acostumado"
   ]
  }
 ],
 "metadata": {
  "kernelspec": {
   "display_name": "Python 3 (ipykernel)",
   "language": "python",
   "name": "python3"
  },
  "language_info": {
   "codemirror_mode": {
    "name": "ipython",
    "version": 3
   },
   "file_extension": ".py",
   "mimetype": "text/x-python",
   "name": "python",
   "nbconvert_exporter": "python",
   "pygments_lexer": "ipython3",
   "version": "3.9.12"
  }
 },
 "nbformat": 4,
 "nbformat_minor": 4
}
